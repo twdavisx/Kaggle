{
 "cells": [
  {
   "cell_type": "code",
   "execution_count": 110,
   "id": "2cd5cd3a",
   "metadata": {},
   "outputs": [],
   "source": [
    "import pandas as pd\n",
    "import matplotlib.pyplot as plt\n",
    "from xgboost import XGBClassifier\n",
    "from sklearn.model_selection import train_test_split\n",
    "from xgboost import plot_importance\n",
    "from sklearn.model_selection import GridSearchCV, StratifiedKFold\n",
    "from sklearn.feature_selection import SelectFromModel\n",
    "from sklearn.metrics import roc_auc_score, make_scorer\n",
    "import numpy as np\n",
    "import joblib"
   ]
  },
  {
   "cell_type": "code",
   "execution_count": 101,
   "id": "c7d81dbb",
   "metadata": {},
   "outputs": [],
   "source": [
    "df = pd.read_csv('train.csv')\n",
    "df.columns\n",
    "\n",
    "def simplify_contact(x):\n",
    "    if x == 'unknown':\n",
    "        return 'unknown'\n",
    "    else:\n",
    "        return 'known_contact'"
   ]
  },
  {
   "cell_type": "code",
   "execution_count": null,
   "id": "c2726140",
   "metadata": {},
   "outputs": [],
   "source": [
    "\n",
    "df.drop('id', axis=1, inplace=True)\n",
    "\n",
    "df = pd.get_dummies(df, columns=['job'], prefix='job') #has unknown\n",
    "df = pd.get_dummies(df, columns=['marital'], prefix='marital')\n",
    "df = pd.get_dummies(df, columns=['education'], prefix='education') # has unknown\n",
    "df['default'] = df['default'].map({'yes': 1, 'no': 0})\n",
    "df['housing'] = df['housing'].map({'yes': 1, 'no': 0})\n",
    "df['loan'] = df['loan'].map({'yes': 1, 'no': 0})\n",
    "\n",
    "df['contact_simple'] = df['contact'].apply(simplify_contact)\n",
    "df = pd.get_dummies(df, columns=['contact_simple'], prefix='contact')\n",
    "df.drop('contact', axis=1, inplace=True)\n",
    "\n",
    "df.drop('day', axis=1, inplace=True)\n",
    "df = pd.get_dummies(df, columns=['month'], prefix='month')\n",
    "\n",
    "df['prev_camp'] = (df['pdays'] != -1).astype(int)\n",
    "df['pdays'] = df['pdays'].replace(-1, 999)\n",
    "df = pd.get_dummies(df, columns=['poutcome'], prefix='poutcome') # has unknown \n",
    "\n",
    "df['balance'] = df['balance'].clip(upper=df['balance'].quantile(0.99))"
   ]
  },
  {
   "cell_type": "code",
   "execution_count": 103,
   "id": "19759f0a",
   "metadata": {},
   "outputs": [
    {
     "name": "stdout",
     "output_type": "stream",
     "text": [
      "48\n"
     ]
    }
   ],
   "source": [
    "print(len(df.columns))\n",
    "\n"
   ]
  },
  {
   "cell_type": "code",
   "execution_count": 104,
   "id": "50d1a91c",
   "metadata": {},
   "outputs": [],
   "source": [
    "y = df['y']\n",
    "X = df.drop('y', axis=1)"
   ]
  },
  {
   "cell_type": "code",
   "execution_count": null,
   "id": "0c8d6724",
   "metadata": {},
   "outputs": [],
   "source": [
    "X_trainval, X_test, y_trainval, y_test = train_test_split(\n",
    "    X, y, test_size=0.2, random_state=1, stratify=y)\n",
    "\n",
    "X_train, X_val, y_train, y_val = train_test_split(\n",
    "    X_trainval, y_trainval, test_size=0.2, random_state=1, stratify=y_trainval)"
   ]
  },
  {
   "cell_type": "code",
   "execution_count": null,
   "id": "a73f41f2",
   "metadata": {},
   "outputs": [
    {
     "name": "stderr",
     "output_type": "stream",
     "text": [
      "/Users/tylerdavis/opt/anaconda3/lib/python3.9/site-packages/sklearn/base.py:443: UserWarning: X has feature names, but SelectFromModel was fitted without feature names\n",
      "  warnings.warn(\n",
      "/Users/tylerdavis/opt/anaconda3/lib/python3.9/site-packages/sklearn/base.py:443: UserWarning: X has feature names, but SelectFromModel was fitted without feature names\n",
      "  warnings.warn(\n"
     ]
    },
    {
     "name": "stdout",
     "output_type": "stream",
     "text": [
      "Fitting 5 folds for each of 48 candidates, totalling 240 fits\n",
      "Best params: {'colsample_bytree': 0.8, 'learning_rate': 0.1, 'max_depth': 7, 'n_estimators': 200, 'subsample': 0.8}\n",
      "Validation ROC AUC: 0.9546\n"
     ]
    }
   ],
   "source": [
    "xgb = XGBClassifier(\n",
    "    eval_metric='logloss',\n",
    "    random_state=42\n",
    ")\n",
    "\n",
    "roc_auc = make_scorer(roc_auc_score, needs_proba=True)\n",
    "\n",
    "xgb.fit(X_train, y_train)\n",
    "\n",
    "selector = SelectFromModel(xgb, threshold='mean', prefit=True)\n",
    "\n",
    "X_train_sel = selector.transform(X_train)\n",
    "X_val_sel = selector.transform(X_val)\n",
    "\n",
    "param_grid = {\n",
    "    'max_depth': [3, 5, 7],\n",
    "    'learning_rate': [0.01, 0.1],\n",
    "    'n_estimators': [100, 200],\n",
    "    'subsample': [0.8, 1],\n",
    "    'colsample_bytree': [0.8, 1]\n",
    "}\n",
    "\n",
    "cv = StratifiedKFold(n_splits=5, shuffle=True, random_state=42)\n",
    "\n",
    "grid_search = GridSearchCV(\n",
    "    estimator=XGBClassifier(eval_metric='logloss', random_state=42),\n",
    "    param_grid=param_grid,\n",
    "    scoring=roc_auc,\n",
    "    cv=cv,\n",
    "    verbose=1,\n",
    "    n_jobs=-1\n",
    ")\n",
    "\n",
    "grid_search.fit(X_train_sel, y_train)\n",
    "\n",
    "print(f\"Best params: {grid_search.best_params_}\")\n",
    "best_model = grid_search.best_estimator_\n",
    "\n",
    "y_val_pred = best_model.predict_proba(X_val_sel)[:, 1]\n",
    "print(f\"Validation ROC AUC: {roc_auc_score(y_val, y_val_pred):.4f}\")"
   ]
  },
  {
   "cell_type": "code",
   "execution_count": null,
   "id": "881f4cd4",
   "metadata": {},
   "outputs": [
    {
     "name": "stderr",
     "output_type": "stream",
     "text": [
      "/Users/tylerdavis/opt/anaconda3/lib/python3.9/site-packages/sklearn/base.py:443: UserWarning: X has feature names, but SelectFromModel was fitted without feature names\n",
      "  warnings.warn(\n"
     ]
    },
    {
     "name": "stdout",
     "output_type": "stream",
     "text": [
      "Training ROC AUC: 0.9557\n"
     ]
    }
   ],
   "source": [
    "X_test_sel = selector.transform(X_test)\n",
    "\n",
    "y_test_pred_proba = best_model.predict_proba(X_test_sel)[:, 1]\n",
    "\n",
    "test_roc_auc = roc_auc_score(y_test, y_test_pred_proba)\n",
    "print(f\"Training ROC AUC: {test_roc_auc:.4f}\")\n"
   ]
  },
  {
   "cell_type": "code",
   "execution_count": 112,
   "id": "43dbd3fc",
   "metadata": {},
   "outputs": [
    {
     "name": "stdout",
     "output_type": "stream",
     "text": [
      "[ 3  4  5 10 28 30 36 37 40 41 45 46]\n"
     ]
    }
   ],
   "source": [
    "selected_indices = selector.get_support(indices=True)\n",
    "print(selected_indices)"
   ]
  }
 ],
 "metadata": {
  "kernelspec": {
   "display_name": "base",
   "language": "python",
   "name": "python3"
  },
  "language_info": {
   "codemirror_mode": {
    "name": "ipython",
    "version": 3
   },
   "file_extension": ".py",
   "mimetype": "text/x-python",
   "name": "python",
   "nbconvert_exporter": "python",
   "pygments_lexer": "ipython3",
   "version": "3.9.13"
  }
 },
 "nbformat": 4,
 "nbformat_minor": 5
}
