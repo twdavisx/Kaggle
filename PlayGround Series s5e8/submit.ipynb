{
 "cells": [
  {
   "cell_type": "code",
   "execution_count": null,
   "id": "2cd5cd3a",
   "metadata": {},
   "outputs": [],
   "source": [
    "import pandas as pd\n",
    "from xgboost import XGBClassifier"
   ]
  },
  {
   "cell_type": "code",
   "execution_count": 20,
   "id": "c7d81dbb",
   "metadata": {},
   "outputs": [],
   "source": [
    "df = pd.read_csv('train.csv')\n",
    "final = pd.read_csv('test.csv')\n",
    "\n",
    "def simplify_contact(x):\n",
    "    if x == 'unknown':\n",
    "        return 'unknown'\n",
    "    else:\n",
    "        return 'known_contact'"
   ]
  },
  {
   "cell_type": "code",
   "execution_count": 21,
   "id": "c2726140",
   "metadata": {},
   "outputs": [],
   "source": [
    "def first_trans(df):\n",
    "    df = pd.get_dummies(df, columns=['job'], prefix='job') #has unknown\n",
    "    df = pd.get_dummies(df, columns=['marital'], prefix='marital')\n",
    "    df = pd.get_dummies(df, columns=['education'], prefix='education') # has unknown\n",
    "    df['default'] = df['default'].map({'yes': 1, 'no': 0})\n",
    "    df['housing'] = df['housing'].map({'yes': 1, 'no': 0})\n",
    "    df['loan'] = df['loan'].map({'yes': 1, 'no': 0})\n",
    "\n",
    "    df['contact_simple'] = df['contact'].apply(simplify_contact)\n",
    "    df = pd.get_dummies(df, columns=['contact_simple'], prefix='contact')\n",
    "    df.drop('contact', axis=1, inplace=True)\n",
    "\n",
    "    df.drop('day', axis=1, inplace=True)\n",
    "    df = pd.get_dummies(df, columns=['month'], prefix='month')\n",
    "    # df.drop('month', axis=1, inplace=True)\n",
    "\n",
    "    df['prev_camp'] = (df['pdays'] != -1).astype(int)\n",
    "    df['pdays'] = df['pdays'].replace(-1, 999)\n",
    "    df = pd.get_dummies(df, columns=['poutcome'], prefix='poutcome') # has unknown. but means still ongoing \n",
    "\n",
    "    df['balance'] = df['balance'].clip(upper=df['balance'].quantile(0.99))\n",
    "\n",
    "    return df"
   ]
  },
  {
   "cell_type": "code",
   "execution_count": 22,
   "id": "21f42787",
   "metadata": {},
   "outputs": [
    {
     "data": {
      "text/plain": [
       "Index(['id', 'age', 'job', 'marital', 'education', 'default', 'balance',\n",
       "       'housing', 'loan', 'contact', 'day', 'month', 'duration', 'campaign',\n",
       "       'pdays', 'previous', 'poutcome', 'y'],\n",
       "      dtype='object')"
      ]
     },
     "execution_count": 22,
     "metadata": {},
     "output_type": "execute_result"
    }
   ],
   "source": [
    "df.columns"
   ]
  },
  {
   "cell_type": "code",
   "execution_count": 23,
   "id": "19759f0a",
   "metadata": {},
   "outputs": [],
   "source": [
    "df = first_trans(df)\n",
    "df.drop('id', axis=1, inplace=True)\n",
    "\n",
    "final = first_trans(final)\n",
    "final_id = final['id']\n",
    "final.drop('id', axis=1, inplace=True)"
   ]
  },
  {
   "cell_type": "code",
   "execution_count": 24,
   "id": "50d1a91c",
   "metadata": {},
   "outputs": [],
   "source": [
    "y = df['y']\n",
    "X = df.drop('y', axis=1)"
   ]
  },
  {
   "cell_type": "code",
   "execution_count": 25,
   "id": "a73f41f2",
   "metadata": {},
   "outputs": [],
   "source": [
    "xgb = XGBClassifier(\n",
    "    colsample_bytree=0.8,\n",
    "    learning_rate=0.1,\n",
    "    max_depth=7,\n",
    "    n_estimators=200,\n",
    "    eval_metric='logloss',\n",
    "    random_state=42,\n",
    ")\n",
    "\n",
    "selected_indices = [3,  4,  5, 10, 28, 30, 36, 37, 40, 41, 45, 46]\n",
    "\n",
    "X_selected = X.iloc[:, selected_indices]\n",
    "final_selected = final.iloc[:, selected_indices]\n",
    "\n",
    "xgb.fit(X_selected, y)\n",
    "\n",
    "y_test_proba = xgb.predict_proba(final_selected)[:, 1]"
   ]
  },
  {
   "cell_type": "code",
   "execution_count": null,
   "id": "881f4cd4",
   "metadata": {},
   "outputs": [],
   "source": [
    "submission = pd.DataFrame({\n",
    "    \"id\": final_id,\n",
    "    \"y\": y_test_proba\n",
    "})\n",
    "\n",
    "submission.to_csv(\"submission.csv\", index=False)"
   ]
  }
 ],
 "metadata": {
  "kernelspec": {
   "display_name": "base",
   "language": "python",
   "name": "python3"
  },
  "language_info": {
   "codemirror_mode": {
    "name": "ipython",
    "version": 3
   },
   "file_extension": ".py",
   "mimetype": "text/x-python",
   "name": "python",
   "nbconvert_exporter": "python",
   "pygments_lexer": "ipython3",
   "version": "3.9.13"
  }
 },
 "nbformat": 4,
 "nbformat_minor": 5
}
